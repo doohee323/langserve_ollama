{
 "cells": [
  {
   "cell_type": "code",
   "metadata": {
    "ExecuteTime": {
     "end_time": "2024-04-26T23:14:39.692208Z",
     "start_time": "2024-04-26T23:14:19.011812Z"
    }
   },
   "source": [
    "from langserve import RemoteRunnable\n",
    "\n",
    "# ngrok remote 주소 설정\n",
    "\n",
    "# chain = RemoteRunnable(\"NGROK 에서 설정한 본인의 도메인 주소/prompt/\")\n",
    "# chain = RemoteRunnable(\"https://poodle-deep-marmot.ngrok-free.app/prompt/\")\n",
    "chain = RemoteRunnable(\"http://0.0.0.0:8000/prompt/\")\n",
    "# chain = RemoteRunnable(\"http://langserve2.seerslab.io:14580/prompt/\")\n",
    "\n",
    "\n",
    "for token in chain.stream({\"topic\": \"딥러닝에 대해서 알려줘\"}):\n",
    "    print(token, end=\"\")"
   ],
   "outputs": [
    {
     "name": "stdout",
     "output_type": "stream",
     "text": [
      "물론이죠, 도와드리겠습니다!\n",
      "\n",
      "딥러"
     ]
    },
    {
     "name": "stderr",
     "output_type": "stream",
     "text": [
      "\n",
      "KeyboardInterrupt\n",
      "\n"
     ]
    }
   ],
   "execution_count": 4
  }
 ],
 "metadata": {
  "kernelspec": {
   "display_name": "py-test",
   "language": "python",
   "name": "python3"
  },
  "language_info": {
   "codemirror_mode": {
    "name": "ipython",
    "version": 3
   },
   "file_extension": ".py",
   "mimetype": "text/x-python",
   "name": "python",
   "nbconvert_exporter": "python",
   "pygments_lexer": "ipython3",
   "version": "3.10.13"
  }
 },
 "nbformat": 4,
 "nbformat_minor": 2
}
